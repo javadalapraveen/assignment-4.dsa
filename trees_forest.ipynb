{
 "cells": [
  {
   "cell_type": "code",
   "execution_count": 1,
   "metadata": {},
   "outputs": [
    {
     "name": "stdout",
     "output_type": "stream",
     "text": [
      "Number of trees in the forest: 1\n"
     ]
    }
   ],
   "source": [
    "from collections import defaultdict\n",
    "\n",
    "class Graph:\n",
    "    def __init__(self):\n",
    "        self.graph = defaultdict(list)\n",
    "\n",
    "    def add_edge(self, u, v):\n",
    "        self.graph[u].append(v)\n",
    "        self.graph[v].append(u)\n",
    "\n",
    "    def dfs(self, vertex, visited):\n",
    "        visited.add(vertex)\n",
    "        for neighbor in self.graph[vertex]:\n",
    "            if neighbor not in visited:\n",
    "                self.dfs(neighbor, visited)\n",
    "\n",
    "    def count_trees(self):\n",
    "        visited = set()\n",
    "        count = 0\n",
    "        for vertex in self.graph:\n",
    "            if vertex not in visited:\n",
    "                count += 1\n",
    "                self.dfs(vertex, visited)\n",
    "        return count\n",
    "\n",
    "g = Graph()\n",
    "edges = int(input(\"Enter the number of edges: \"))\n",
    "for _ in range(edges):\n",
    "    u, v = map(int, input(\"Enter edge (u v): \").split())\n",
    "    g.add_edge(u, v)\n",
    "\n",
    "result = g.count_trees()\n",
    "print(f\"Number of trees in the forest: {result}\")"
   ]
  }
 ],
 "metadata": {
  "kernelspec": {
   "display_name": "Python 3",
   "language": "python",
   "name": "python3"
  },
  "language_info": {
   "codemirror_mode": {
    "name": "ipython",
    "version": 3
   },
   "file_extension": ".py",
   "mimetype": "text/x-python",
   "name": "python",
   "nbconvert_exporter": "python",
   "pygments_lexer": "ipython3",
   "version": "3.11.4"
  }
 },
 "nbformat": 4,
 "nbformat_minor": 2
}
