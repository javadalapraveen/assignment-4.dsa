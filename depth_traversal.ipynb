{
 "cells": [
  {
   "cell_type": "code",
   "execution_count": 2,
   "metadata": {},
   "outputs": [
    {
     "name": "stdout",
     "output_type": "stream",
     "text": [
      "DFS Traversal:\n",
      "2 1 "
     ]
    }
   ],
   "source": [
    "from collections import defaultdict\n",
    "\n",
    "def dfs(graph, start):\n",
    "    visited = set()\n",
    "    stack = [start]\n",
    "\n",
    "    while stack:\n",
    "        vertex = stack.pop()\n",
    "        if vertex not in visited:\n",
    "            print(vertex, end=\" \")\n",
    "            visited.add(vertex)\n",
    "            stack.extend(neighbor for neighbor in reversed(graph[vertex]) if neighbor not in visited)\n",
    "\n",
    "graph = defaultdict(list)\n",
    "edges = int(input(\"Enter the number of edges: \"))\n",
    "for _ in range(edges):\n",
    "    u, v = map(int, input(\"Enter edge (u v): \").split())\n",
    "    graph[u].append(v)\n",
    "\n",
    "start_vertex = int(input(\"Enter the starting vertex: \"))\n",
    "print(\"DFS Traversal:\")\n",
    "dfs(graph, start_vertex)"
   ]
  }
 ],
 "metadata": {
  "kernelspec": {
   "display_name": "Python 3",
   "language": "python",
   "name": "python3"
  },
  "language_info": {
   "codemirror_mode": {
    "name": "ipython",
    "version": 3
   },
   "file_extension": ".py",
   "mimetype": "text/x-python",
   "name": "python",
   "nbconvert_exporter": "python",
   "pygments_lexer": "ipython3",
   "version": "3.11.4"
  }
 },
 "nbformat": 4,
 "nbformat_minor": 2
}
