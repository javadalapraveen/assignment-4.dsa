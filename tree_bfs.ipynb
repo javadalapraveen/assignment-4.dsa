{
 "cells": [
  {
   "cell_type": "code",
   "execution_count": 2,
   "metadata": {},
   "outputs": [
    {
     "name": "stdout",
     "output_type": "stream",
     "text": [
      "Number of nodes at level 1: 2\n"
     ]
    }
   ],
   "source": [
    "from collections import defaultdict, deque\n",
    "\n",
    "class Graph:\n",
    "    def __init__(self):\n",
    "        self.graph = defaultdict(list)\n",
    "\n",
    "    def add_edge(self, u, v):\n",
    "        self.graph[u].append(v)\n",
    "\n",
    "    def count_nodes_at_level(self, start, level):\n",
    "        visited = set()\n",
    "        queue = deque([(start, 0)])\n",
    "        count = 0\n",
    "\n",
    "        while queue:\n",
    "            vertex, current_level = queue.popleft()\n",
    "\n",
    "            if current_level == level:\n",
    "                count += 1\n",
    "\n",
    "            if vertex not in visited:\n",
    "                visited.add(vertex)\n",
    "\n",
    "                for neighbor in self.graph[vertex]:\n",
    "                    if neighbor not in visited:\n",
    "                        queue.append((neighbor, current_level + 1))\n",
    "\n",
    "        return count\n",
    "\n",
    "g = Graph()\n",
    "edges = int(input(\"Enter the number of edges: \"))\n",
    "for _ in range(edges):\n",
    "    u, v = map(int, input(\"Enter edge (u v): \").split())\n",
    "    g.add_edge(u, v)\n",
    "\n",
    "start_vertex = int(input(\"Enter the starting vertex: \"))\n",
    "target_level = int(input(\"Enter the target level: \"))\n",
    "\n",
    "result = g.count_nodes_at_level(start_vertex, target_level)\n",
    "print(f\"Number of nodes at level {target_level}: {result}\")"
   ]
  }
 ],
 "metadata": {
  "kernelspec": {
   "display_name": "Python 3",
   "language": "python",
   "name": "python3"
  },
  "language_info": {
   "codemirror_mode": {
    "name": "ipython",
    "version": 3
   },
   "file_extension": ".py",
   "mimetype": "text/x-python",
   "name": "python",
   "nbconvert_exporter": "python",
   "pygments_lexer": "ipython3",
   "version": "3.11.4"
  }
 },
 "nbformat": 4,
 "nbformat_minor": 2
}
