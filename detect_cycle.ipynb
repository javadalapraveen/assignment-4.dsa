{
 "cells": [
  {
   "cell_type": "code",
   "execution_count": 2,
   "metadata": {},
   "outputs": [
    {
     "name": "stdout",
     "output_type": "stream",
     "text": [
      "Graph contains cycle\n"
     ]
    }
   ],
   "source": [
    "class Graph:\n",
    "    def __init__(self):\n",
    "        self.graph = {}\n",
    "\n",
    "    def addEdge(self, u, v):\n",
    "        if u not in self.graph:\n",
    "            self.graph[u] = []\n",
    "        self.graph[u].append(v)\n",
    "\n",
    "    def isCyclicUtil(self, v, color):\n",
    "        color[v] = \"gray\"\n",
    "\n",
    "        if v in self.graph:\n",
    "            for neighbour in self.graph[v]:\n",
    "                if color.get(neighbour, \"white\") == \"gray\":\n",
    "                    return True\n",
    "                elif color.get(neighbour, \"white\") == \"white\" and self.isCyclicUtil(neighbour, color):\n",
    "                    return True\n",
    "\n",
    "        color[v] = \"black\"\n",
    "        return False\n",
    "\n",
    "    def isCyclic(self):\n",
    "        color = {node: \"white\" for node in self.graph}\n",
    "\n",
    "        for node in self.graph:\n",
    "            if color[node] == \"white\":\n",
    "                if self.isCyclicUtil(node, color):\n",
    "                    return True\n",
    "\n",
    "        return False\n",
    "\n",
    "def take_input():\n",
    "    g = Graph()\n",
    "    n = int(input(\"Enter the number of vertices: \"))\n",
    "    m = int(input(\"Enter the number of edges: \"))\n",
    "\n",
    "    for _ in range(m):\n",
    "        u, v = map(int, input(\"Enter the edge (u, v): \").split())\n",
    "        g.addEdge(u, v)\n",
    "\n",
    "    return g\n",
    "\n",
    "def main():\n",
    "    g = take_input()\n",
    "    if g.isCyclic():\n",
    "        print(\"Graph contains cycle\")\n",
    "    else:\n",
    "        print(\"Graph doesn't contain cycle\")\n",
    "\n",
    "if __name__ == \"__main__\":\n",
    "    main()"
   ]
  }
 ],
 "metadata": {
  "kernelspec": {
   "display_name": "Python 3",
   "language": "python",
   "name": "python3"
  },
  "language_info": {
   "codemirror_mode": {
    "name": "ipython",
    "version": 3
   },
   "file_extension": ".py",
   "mimetype": "text/x-python",
   "name": "python",
   "nbconvert_exporter": "python",
   "pygments_lexer": "ipython3",
   "version": "3.11.4"
  }
 },
 "nbformat": 4,
 "nbformat_minor": 2
}
